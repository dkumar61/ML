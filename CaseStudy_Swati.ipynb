{
  "nbformat": 4,
  "nbformat_minor": 0,
  "metadata": {
    "colab": {
      "name": "CaseStudy_Swati.ipynb",
      "provenance": [],
      "mount_file_id": "1k8Q9adR8olTSHXd_q6Pwn1zZg4-eudAe",
      "authorship_tag": "ABX9TyOYEyghgCmCjMxz27lVL5Rq",
      "include_colab_link": true
    },
    "kernelspec": {
      "name": "python3",
      "display_name": "Python 3"
    },
    "language_info": {
      "name": "python"
    }
  },
  "cells": [
    {
      "cell_type": "markdown",
      "metadata": {
        "id": "view-in-github",
        "colab_type": "text"
      },
      "source": [
        "<a href=\"https://colab.research.google.com/github/dkumar61/ML/blob/master/CaseStudy_Swati.ipynb\" target=\"_parent\"><img src=\"https://colab.research.google.com/assets/colab-badge.svg\" alt=\"Open In Colab\"/></a>"
      ]
    },
    {
      "cell_type": "code",
      "metadata": {
        "colab": {
          "base_uri": "https://localhost:8080/"
        },
        "id": "iV7zwvLtXJrk",
        "outputId": "03a2eec1-2a42-4988-8c8c-ce8b6acca785"
      },
      "source": [
        "! pip install h2o"
      ],
      "execution_count": 3,
      "outputs": [
        {
          "output_type": "stream",
          "text": [
            "Collecting h2o\n",
            "\u001b[?25l  Downloading https://files.pythonhosted.org/packages/56/ee/9a2c124bedad710b5e721641391b6a76783899e276dbee4ad2f2a7f71325/h2o-3.32.1.1.tar.gz (164.8MB)\n",
            "\u001b[K     |████████████████████████████████| 164.8MB 81kB/s \n",
            "\u001b[?25hRequirement already satisfied: requests in /usr/local/lib/python3.7/dist-packages (from h2o) (2.23.0)\n",
            "Requirement already satisfied: tabulate in /usr/local/lib/python3.7/dist-packages (from h2o) (0.8.9)\n",
            "Requirement already satisfied: future in /usr/local/lib/python3.7/dist-packages (from h2o) (0.16.0)\n",
            "Collecting colorama>=0.3.8\n",
            "  Downloading https://files.pythonhosted.org/packages/44/98/5b86278fbbf250d239ae0ecb724f8572af1c91f4a11edf4d36a206189440/colorama-0.4.4-py2.py3-none-any.whl\n",
            "Requirement already satisfied: certifi>=2017.4.17 in /usr/local/lib/python3.7/dist-packages (from requests->h2o) (2020.12.5)\n",
            "Requirement already satisfied: urllib3!=1.25.0,!=1.25.1,<1.26,>=1.21.1 in /usr/local/lib/python3.7/dist-packages (from requests->h2o) (1.24.3)\n",
            "Requirement already satisfied: idna<3,>=2.5 in /usr/local/lib/python3.7/dist-packages (from requests->h2o) (2.10)\n",
            "Requirement already satisfied: chardet<4,>=3.0.2 in /usr/local/lib/python3.7/dist-packages (from requests->h2o) (3.0.4)\n",
            "Building wheels for collected packages: h2o\n",
            "  Building wheel for h2o (setup.py) ... \u001b[?25l\u001b[?25hdone\n",
            "  Created wheel for h2o: filename=h2o-3.32.1.1-py2.py3-none-any.whl size=164840229 sha256=7cac10c2cc97c612bf7e4d97c1de22e6ed193533f83ad00af2a9b54269e2ba90\n",
            "  Stored in directory: /root/.cache/pip/wheels/4d/94/84/02ea21db1eebcef2da872861ce0db478788e27d24bcd5394fb\n",
            "Successfully built h2o\n",
            "Installing collected packages: colorama, h2o\n",
            "Successfully installed colorama-0.4.4 h2o-3.32.1.1\n"
          ],
          "name": "stdout"
        }
      ]
    },
    {
      "cell_type": "code",
      "metadata": {
        "id": "qN6m7TQAcByg"
      },
      "source": [
        "import pandas as pd\n",
        "import seaborn as sns\n",
        "import matplotlib.pyplot as plt\n",
        "from datetime import datetime, date\n",
        "\n",
        "# Comment this if the data visualisations doesn't work on your side\n",
        "%matplotlib inline\n",
        "\n",
        "plt.style.use('bmh')"
      ],
      "execution_count": 82,
      "outputs": []
    },
    {
      "cell_type": "code",
      "metadata": {
        "id": "YSkclPEUdkms"
      },
      "source": [
        "#df = pd.read_excel('Health.xlsx', sheet_name='Training_Set')\n",
        "df_test = pd.read_excel('Health.xlsx', sheet_name='Test_Set')"
      ],
      "execution_count": 155,
      "outputs": []
    },
    {
      "cell_type": "code",
      "metadata": {
        "id": "5mSo5rAv227G"
      },
      "source": [
        "df.columns = df.columns.str.replace(' ','_')\n",
        "df_test.columns = df.columns.str.replace(' ','_')"
      ],
      "execution_count": 156,
      "outputs": []
    },
    {
      "cell_type": "code",
      "metadata": {
        "colab": {
          "base_uri": "https://localhost:8080/",
          "height": 134
        },
        "id": "H8vY_Gz5k0zz",
        "outputId": "532031ce-5dbf-4a28-8826-469cdedbdfea"
      },
      "source": [
        "df.tail(1)"
      ],
      "execution_count": 140,
      "outputs": [
        {
          "output_type": "execute_result",
          "data": {
            "text/html": [
              "<div>\n",
              "<style scoped>\n",
              "    .dataframe tbody tr th:only-of-type {\n",
              "        vertical-align: middle;\n",
              "    }\n",
              "\n",
              "    .dataframe tbody tr th {\n",
              "        vertical-align: top;\n",
              "    }\n",
              "\n",
              "    .dataframe thead th {\n",
              "        text-align: right;\n",
              "    }\n",
              "</style>\n",
              "<table border=\"1\" class=\"dataframe\">\n",
              "  <thead>\n",
              "    <tr style=\"text-align: right;\">\n",
              "      <th></th>\n",
              "      <th>Unique_ID</th>\n",
              "      <th>Case_Number</th>\n",
              "      <th>Date_of_Birth</th>\n",
              "      <th>Accident_State</th>\n",
              "      <th>Loss_Type</th>\n",
              "      <th>Loss_Date</th>\n",
              "      <th>Closed_Date</th>\n",
              "      <th>Report_Date</th>\n",
              "      <th>Cause_Description</th>\n",
              "      <th>Litigation_</th>\n",
              "      <th>Occupation</th>\n",
              "      <th>Carrier</th>\n",
              "      <th>Sector/Industry</th>\n",
              "      <th>Claim_Cost</th>\n",
              "      <th>High_Cost</th>\n",
              "    </tr>\n",
              "  </thead>\n",
              "  <tbody>\n",
              "    <tr>\n",
              "      <th>37696</th>\n",
              "      <td>57661</td>\n",
              "      <td>3D448777148119</td>\n",
              "      <td>1995-02-11</td>\n",
              "      <td>NJ</td>\n",
              "      <td>Notice Only</td>\n",
              "      <td>2018-04-06 00:00:00</td>\n",
              "      <td>2018-05-03 00:00:00</td>\n",
              "      <td>2018-04-09 00:00:00</td>\n",
              "      <td>ANY AND ALL ANY AND ALL                         LLED UNCLASSIFIED ...</td>\n",
              "      <td>No</td>\n",
              "      <td>GENERAL LABOR</td>\n",
              "      <td>NaN</td>\n",
              "      <td>Materials</td>\n",
              "      <td>0.0</td>\n",
              "      <td>0</td>\n",
              "    </tr>\n",
              "  </tbody>\n",
              "</table>\n",
              "</div>"
            ],
            "text/plain": [
              "       Unique_ID     Case_Number  ... Claim_Cost High_Cost\n",
              "37696      57661  3D448777148119  ...        0.0         0\n",
              "\n",
              "[1 rows x 15 columns]"
            ]
          },
          "metadata": {
            "tags": []
          },
          "execution_count": 140
        }
      ]
    },
    {
      "cell_type": "code",
      "metadata": {
        "id": "RNf2CKo8488E"
      },
      "source": [
        "import numpy as np\n",
        "now = pd.Timestamp('now')\n",
        "df['Date_of_Birth'] = pd.to_datetime(df['Date_of_Birth'], format='%y%m%d')    # 1\n",
        "df['Date_of_Birth'] = df['Date_of_Birth'].where(df['Date_of_Birth'] < now, df['Date_of_Birth'] -  np.timedelta64(100, 'Y'))   # 2\n",
        "df['age'] = (now - df['Date_of_Birth']).astype('<m8[Y]') \n",
        "\n",
        "df_test['Date_of_Birth'] = pd.to_datetime(df_test['Date_of_Birth'], format='%y%m%d')    # 1\n",
        "df_test['Date_of_Birth'] = df_test['Date_of_Birth'].where(df_test['Date_of_Birth'] < now, df_test['Date_of_Birth'] -  np.timedelta64(100, 'Y'))   # 2\n",
        "df_test['age'] = (now - df_test['Date_of_Birth']).astype('<m8[Y]') "
      ],
      "execution_count": 157,
      "outputs": []
    },
    {
      "cell_type": "code",
      "metadata": {
        "id": "l6k264c7D78r"
      },
      "source": [
        "#df_test['Difference'] = (df_test['First_Date'] - df_test['Second Date']).dt.days\n"
      ],
      "execution_count": 158,
      "outputs": []
    },
    {
      "cell_type": "code",
      "metadata": {
        "colab": {
          "base_uri": "https://localhost:8080/"
        },
        "id": "IH60439EfK-c",
        "outputId": "8ccd92cc-a552-4482-8dce-2a5d95417016"
      },
      "source": [
        "df.info()"
      ],
      "execution_count": 147,
      "outputs": [
        {
          "output_type": "stream",
          "text": [
            "<class 'pandas.core.frame.DataFrame'>\n",
            "RangeIndex: 37697 entries, 0 to 37696\n",
            "Data columns (total 16 columns):\n",
            " #   Column             Non-Null Count  Dtype         \n",
            "---  ------             --------------  -----         \n",
            " 0   Unique_ID          37697 non-null  int64         \n",
            " 1   Case_Number        37697 non-null  object        \n",
            " 2   Date_of_Birth      4750 non-null   datetime64[ns]\n",
            " 3   Accident_State     37696 non-null  object        \n",
            " 4   Loss_Type          37697 non-null  object        \n",
            " 5   Loss_Date          37697 non-null  object        \n",
            " 6   Closed_Date        35300 non-null  object        \n",
            " 7   Report_Date        37679 non-null  object        \n",
            " 8   Cause_Description  36952 non-null  object        \n",
            " 9   Litigation_        37697 non-null  object        \n",
            " 10  Occupation         14328 non-null  object        \n",
            " 11  Carrier            6816 non-null   object        \n",
            " 12  Sector/Industry    37697 non-null  object        \n",
            " 13  Claim_Cost         37697 non-null  float64       \n",
            " 14  High_Cost          37697 non-null  int64         \n",
            " 15  age                4750 non-null   float64       \n",
            "dtypes: datetime64[ns](1), float64(2), int64(2), object(11)\n",
            "memory usage: 4.6+ MB\n"
          ],
          "name": "stdout"
        }
      ]
    },
    {
      "cell_type": "code",
      "metadata": {
        "colab": {
          "base_uri": "https://localhost:8080/",
          "height": 703
        },
        "id": "mDQrZ7vPkMrg",
        "outputId": "30be870d-b5c4-4a1c-c2b8-5fdfdee660af"
      },
      "source": [
        "print(df['age'].describe())\n",
        "plt.figure(figsize=(9, 8))\n",
        "sns.distplot(df['age'], color='g', bins=100, hist_kws={'alpha': 0.4});"
      ],
      "execution_count": 122,
      "outputs": [
        {
          "output_type": "stream",
          "text": [
            "count    4750.000000\n",
            "mean       50.129263\n",
            "std        12.848524\n",
            "min        21.000000\n",
            "25%        40.000000\n",
            "50%        52.000000\n",
            "75%        60.000000\n",
            "max        99.000000\n",
            "Name: age, dtype: float64\n"
          ],
          "name": "stdout"
        },
        {
          "output_type": "stream",
          "text": [
            "/usr/local/lib/python3.7/dist-packages/seaborn/distributions.py:2557: FutureWarning: `distplot` is a deprecated function and will be removed in a future version. Please adapt your code to use either `displot` (a figure-level function with similar flexibility) or `histplot` (an axes-level function for histograms).\n",
            "  warnings.warn(msg, FutureWarning)\n"
          ],
          "name": "stderr"
        },
        {
          "output_type": "display_data",
          "data": {
            "image/png": "[encoded data removed]",
            "text/plain": [
              "<Figure size 648x576 with 1 Axes>"
            ]
          },
          "metadata": {
            "tags": [],
            "needs_background": "light"
          }
        }
      ]
    },
    {
      "cell_type": "code",
      "metadata": {
        "id": "m-gVxCPDyo8L"
      },
      "source": [
        "df.drop(\"Unique_ID\", axis=1, inplace=True)\n",
        "df.dropna(subset=[\"Date_of_Birth\"], inplace=True)\n",
        "df.drop(\"Case_Number\", axis=1, inplace=True)\n",
        "df.drop(\"Date_of_Birth\", axis=1, inplace=True)\n",
        "df.drop(\"Cause_Description\", axis=1, inplace=True)\n",
        "df.drop(\"Loss_Date\", axis=1, inplace=True)\n",
        "df.drop(\"Closed_Date\", axis=1, inplace=True)\n",
        "df.drop(\"Report_Date\", axis=1, inplace=True)\n",
        "df.rename(columns={'Sector/Industry': 'Industry'}, inplace=True)\n",
        "\n",
        "df_test.drop(\"Unique_ID\", axis=1, inplace=True)\n",
        "df_test.dropna(subset=[\"Date_of_Birth\"], inplace=True)\n",
        "df_test.drop(\"Case_Number\", axis=1, inplace=True)\n",
        "df_test.drop(\"Date_of_Birth\", axis=1, inplace=True)\n",
        "df_test.drop(\"Cause_Description\", axis=1, inplace=True)\n",
        "df_test.drop(\"Loss_Date\", axis=1, inplace=True)\n",
        "df_test.drop(\"Closed_Date\", axis=1, inplace=True)\n",
        "df_test.drop(\"Report_Date\", axis=1, inplace=True)\n",
        "df_test.rename(columns={'Sector/Industry': 'Industry'}, inplace=True)\n"
      ],
      "execution_count": 162,
      "outputs": []
    },
    {
      "cell_type": "code",
      "metadata": {
        "colab": {
          "base_uri": "https://localhost:8080/",
          "height": 1000
        },
        "id": "wxz_X6hWgWyl",
        "outputId": "013e6fdc-d67e-48f1-d235-25dbfe7b6840"
      },
      "source": [
        "df_num.hist(figsize=(16, 20), bins=50, xlabelsize=8, ylabelsize=8); # ; avoid having the matplotlib verbose informations"
      ],
      "execution_count": 62,
      "outputs": [
        {
          "output_type": "display_data",
          "data": {
            "image/png": "[encoded data removed]",
            "text/plain": [
              "<Figure size 1152x1440 with 2 Axes>"
            ]
          },
          "metadata": {
            "tags": [],
            "needs_background": "light"
          }
        }
      ]
    },
    {
      "cell_type": "code",
      "metadata": {
        "colab": {
          "base_uri": "https://localhost:8080/"
        },
        "id": "VUVDzWGsvHZf",
        "outputId": "01672af8-ca67-4060-a7d7-1fac8304802f"
      },
      "source": [
        "df_test.columns"
      ],
      "execution_count": 163,
      "outputs": [
        {
          "output_type": "execute_result",
          "data": {
            "text/plain": [
              "Index(['Accident_State', 'Loss_Type', 'Litigation_', 'Occupation', 'Carrier',\n",
              "       'Industry', 'Claim_Cost', 'High_Cost', 'age'],\n",
              "      dtype='object')"
            ]
          },
          "metadata": {
            "tags": []
          },
          "execution_count": 163
        }
      ]
    },
    {
      "cell_type": "code",
      "metadata": {
        "colab": {
          "base_uri": "https://localhost:8080/",
          "height": 545
        },
        "id": "s8kBIMTh1ocF",
        "outputId": "c91163f3-1c66-40fb-a0a5-fc65dba1c462"
      },
      "source": [
        "import h2o\n",
        "from h2o.estimators import H2ORandomForestEstimator\n",
        "h2o.init()"
      ],
      "execution_count": 66,
      "outputs": [
        {
          "output_type": "stream",
          "text": [
            "Checking whether there is an H2O instance running at http://localhost:54321 ..... not found.\n",
            "Attempting to start a local H2O server...\n",
            "  Java Version: openjdk version \"11.0.10\" 2021-01-19; OpenJDK Runtime Environment (build 11.0.10+9-Ubuntu-0ubuntu1.18.04); OpenJDK 64-Bit Server VM (build 11.0.10+9-Ubuntu-0ubuntu1.18.04, mixed mode, sharing)\n",
            "  Starting server from /usr/local/lib/python3.7/dist-packages/h2o/backend/bin/h2o.jar\n",
            "  Ice root: /tmp/tmpcgjcejt8\n",
            "  JVM stdout: /tmp/tmpcgjcejt8/h2o_unknownUser_started_from_python.out\n",
            "  JVM stderr: /tmp/tmpcgjcejt8/h2o_unknownUser_started_from_python.err\n",
            "  Server is running at http://127.0.0.1:54321\n",
            "Connecting to H2O server at http://127.0.0.1:54321 ... successful.\n"
          ],
          "name": "stdout"
        },
        {
          "output_type": "display_data",
          "data": {
            "text/html": [
              "<div style=\"overflow:auto\"><table style=\"width:50%\"><tr><td>H2O_cluster_uptime:</td>\n",
              "<td>03 secs</td></tr>\n",
              "<tr><td>H2O_cluster_timezone:</td>\n",
              "<td>Etc/UTC</td></tr>\n",
              "<tr><td>H2O_data_parsing_timezone:</td>\n",
              "<td>UTC</td></tr>\n",
              "<tr><td>H2O_cluster_version:</td>\n",
              "<td>3.32.1.1</td></tr>\n",
              "<tr><td>H2O_cluster_version_age:</td>\n",
              "<td>16 days </td></tr>\n",
              "<tr><td>H2O_cluster_name:</td>\n",
              "<td>H2O_from_python_unknownUser_0s1got</td></tr>\n",
              "<tr><td>H2O_cluster_total_nodes:</td>\n",
              "<td>1</td></tr>\n",
              "<tr><td>H2O_cluster_free_memory:</td>\n",
              "<td>3.180 Gb</td></tr>\n",
              "<tr><td>H2O_cluster_total_cores:</td>\n",
              "<td>2</td></tr>\n",
              "<tr><td>H2O_cluster_allowed_cores:</td>\n",
              "<td>2</td></tr>\n",
              "<tr><td>H2O_cluster_status:</td>\n",
              "<td>accepting new members, healthy</td></tr>\n",
              "<tr><td>H2O_connection_url:</td>\n",
              "<td>http://127.0.0.1:54321</td></tr>\n",
              "<tr><td>H2O_connection_proxy:</td>\n",
              "<td>{\"http\": null, \"https\": null}</td></tr>\n",
              "<tr><td>H2O_internal_security:</td>\n",
              "<td>False</td></tr>\n",
              "<tr><td>H2O_API_Extensions:</td>\n",
              "<td>Amazon S3, XGBoost, Algos, AutoML, Core V3, TargetEncoder, Core V4</td></tr>\n",
              "<tr><td>Python_version:</td>\n",
              "<td>3.7.10 final</td></tr></table></div>"
            ],
            "text/plain": [
              "--------------------------  ------------------------------------------------------------------\n",
              "H2O_cluster_uptime:         03 secs\n",
              "H2O_cluster_timezone:       Etc/UTC\n",
              "H2O_data_parsing_timezone:  UTC\n",
              "H2O_cluster_version:        3.32.1.1\n",
              "H2O_cluster_version_age:    16 days\n",
              "H2O_cluster_name:           H2O_from_python_unknownUser_0s1got\n",
              "H2O_cluster_total_nodes:    1\n",
              "H2O_cluster_free_memory:    3.180 Gb\n",
              "H2O_cluster_total_cores:    2\n",
              "H2O_cluster_allowed_cores:  2\n",
              "H2O_cluster_status:         accepting new members, healthy\n",
              "H2O_connection_url:         http://127.0.0.1:54321\n",
              "H2O_connection_proxy:       {\"http\": null, \"https\": null}\n",
              "H2O_internal_security:      False\n",
              "H2O_API_Extensions:         Amazon S3, XGBoost, Algos, AutoML, Core V3, TargetEncoder, Core V4\n",
              "Python_version:             3.7.10 final\n",
              "--------------------------  ------------------------------------------------------------------"
            ]
          },
          "metadata": {
            "tags": []
          }
        }
      ]
    },
    {
      "cell_type": "code",
      "metadata": {
        "colab": {
          "base_uri": "https://localhost:8080/"
        },
        "id": "Q9fY7pquyGfg",
        "outputId": "1de52eba-90be-4225-8527-00ca6aee7545"
      },
      "source": [
        "hf = h2o.H2OFrame(df)\n",
        "hf_test = h2o.H2OFrame(df_test)\n",
        "\n",
        "hf[\"Litigation_\"] = hf[\"Litigation_\"].asfactor()\n",
        "hf_test[\"Litigation_\"] = hf_test[\"Litigation_\"].asfactor()\n",
        "predictors = ['Accident_State', 'Loss_Type', 'Occupation', 'Carrier', 'Industry', 'Claim_Cost', 'High_Cost','age']\n",
        "response = 'Litigation_'"
      ],
      "execution_count": 164,
      "outputs": [
        {
          "output_type": "stream",
          "text": [
            "Parse progress: |█████████████████████████████████████████████████████████| 100%\n",
            "Parse progress: |█████████████████████████████████████████████████████████| 100%\n"
          ],
          "name": "stdout"
        }
      ]
    },
    {
      "cell_type": "code",
      "metadata": {
        "id": "_vMViu6J1ZNQ"
      },
      "source": [
        "train, valid = hf.split_frame(ratios=[.8], seed=1234)"
      ],
      "execution_count": 131,
      "outputs": []
    },
    {
      "cell_type": "code",
      "metadata": {
        "id": "dISvcADJ2fWK"
      },
      "source": [
        "# Build and train the model:\n",
        "df_drf = H2ORandomForestEstimator(ntrees=10,\n",
        "                                    max_depth=5,\n",
        "                                    min_rows=10,\n",
        "                                    calibrate_model=True,\n",
        "                                    calibration_frame=valid,\n",
        "                                    binomial_double_trees=True)"
      ],
      "execution_count": 132,
      "outputs": []
    },
    {
      "cell_type": "code",
      "metadata": {
        "colab": {
          "base_uri": "https://localhost:8080/"
        },
        "id": "2XYWPf919yNd",
        "outputId": "e19af8e8-4ef2-4758-9963-9b5466250669"
      },
      "source": [
        "df_drf.train(x=predictors, y=response, training_frame=train, validation_frame=valid)"
      ],
      "execution_count": 133,
      "outputs": [
        {
          "output_type": "stream",
          "text": [
            "/usr/local/lib/python3.7/dist-packages/h2o/estimators/estimator_base.py:200: RuntimeWarning: Dropping bad and constant columns: [Industry, Carrier]\n",
            "  warnings.warn(mesg[\"message\"], RuntimeWarning)\n"
          ],
          "name": "stderr"
        },
        {
          "output_type": "stream",
          "text": [
            "drf Model Build progress: |███████████████████████████████████████████████| 100%\n"
          ],
          "name": "stdout"
        }
      ]
    },
    {
      "cell_type": "code",
      "metadata": {
        "id": "jBJB2-SP9zXG"
      },
      "source": [
        "perf = df_drf.model_performance()"
      ],
      "execution_count": 134,
      "outputs": []
    },
    {
      "cell_type": "code",
      "metadata": {
        "colab": {
          "base_uri": "https://localhost:8080/",
          "height": 1000
        },
        "id": "0nz-FRim-GDc",
        "outputId": "0c61dd01-b3b7-4157-a47b-54c768ade218"
      },
      "source": [
        "perf"
      ],
      "execution_count": 135,
      "outputs": [
        {
          "output_type": "stream",
          "text": [
            "\n",
            "ModelMetricsBinomial: drf\n",
            "** Reported on train data. **\n",
            "\n",
            "MSE: 0.05692247978635895\n",
            "RMSE: 0.23858432426787587\n",
            "LogLoss: 0.21405290646873246\n",
            "Mean Per-Class Error: 0.14960877631685088\n",
            "AUC: 0.9080276718253649\n",
            "AUCPR: 0.6007904985691549\n",
            "Gini: 0.8160553436507298\n",
            "\n",
            "Confusion Matrix (Act/Pred) for max f1 @ threshold = 0.29319161292239504: \n"
          ],
          "name": "stdout"
        },
        {
          "output_type": "display_data",
          "data": {
            "text/html": [
              "<div>\n",
              "<style scoped>\n",
              "    .dataframe tbody tr th:only-of-type {\n",
              "        vertical-align: middle;\n",
              "    }\n",
              "\n",
              "    .dataframe tbody tr th {\n",
              "        vertical-align: top;\n",
              "    }\n",
              "\n",
              "    .dataframe thead th {\n",
              "        text-align: right;\n",
              "    }\n",
              "</style>\n",
              "<table border=\"1\" class=\"dataframe\">\n",
              "  <thead>\n",
              "    <tr style=\"text-align: right;\">\n",
              "      <th></th>\n",
              "      <th></th>\n",
              "      <th>No</th>\n",
              "      <th>Yes</th>\n",
              "      <th>Error</th>\n",
              "      <th>Rate</th>\n",
              "    </tr>\n",
              "  </thead>\n",
              "  <tbody>\n",
              "    <tr>\n",
              "      <th>0</th>\n",
              "      <td>No</td>\n",
              "      <td>3217.0</td>\n",
              "      <td>164.0</td>\n",
              "      <td>0.0485</td>\n",
              "      <td>(164.0/3381.0)</td>\n",
              "    </tr>\n",
              "    <tr>\n",
              "      <th>1</th>\n",
              "      <td>Yes</td>\n",
              "      <td>131.0</td>\n",
              "      <td>254.0</td>\n",
              "      <td>0.3403</td>\n",
              "      <td>(131.0/385.0)</td>\n",
              "    </tr>\n",
              "    <tr>\n",
              "      <th>2</th>\n",
              "      <td>Total</td>\n",
              "      <td>3348.0</td>\n",
              "      <td>418.0</td>\n",
              "      <td>0.0783</td>\n",
              "      <td>(295.0/3766.0)</td>\n",
              "    </tr>\n",
              "  </tbody>\n",
              "</table>\n",
              "</div>"
            ],
            "text/plain": [
              "              No    Yes   Error             Rate\n",
              "0     No  3217.0  164.0  0.0485   (164.0/3381.0)\n",
              "1    Yes   131.0  254.0  0.3403    (131.0/385.0)\n",
              "2  Total  3348.0  418.0  0.0783   (295.0/3766.0)"
            ]
          },
          "metadata": {
            "tags": []
          }
        },
        {
          "output_type": "stream",
          "text": [
            "\n",
            "Maximum Metrics: Maximum metrics at their respective thresholds\n"
          ],
          "name": "stdout"
        },
        {
          "output_type": "display_data",
          "data": {
            "text/html": [
              "<div>\n",
              "<style scoped>\n",
              "    .dataframe tbody tr th:only-of-type {\n",
              "        vertical-align: middle;\n",
              "    }\n",
              "\n",
              "    .dataframe tbody tr th {\n",
              "        vertical-align: top;\n",
              "    }\n",
              "\n",
              "    .dataframe thead th {\n",
              "        text-align: right;\n",
              "    }\n",
              "</style>\n",
              "<table border=\"1\" class=\"dataframe\">\n",
              "  <thead>\n",
              "    <tr style=\"text-align: right;\">\n",
              "      <th></th>\n",
              "      <th>metric</th>\n",
              "      <th>threshold</th>\n",
              "      <th>value</th>\n",
              "      <th>idx</th>\n",
              "    </tr>\n",
              "  </thead>\n",
              "  <tbody>\n",
              "    <tr>\n",
              "      <th>0</th>\n",
              "      <td>max f1</td>\n",
              "      <td>0.293192</td>\n",
              "      <td>0.632628</td>\n",
              "      <td>175.0</td>\n",
              "    </tr>\n",
              "    <tr>\n",
              "      <th>1</th>\n",
              "      <td>max f2</td>\n",
              "      <td>0.180262</td>\n",
              "      <td>0.698824</td>\n",
              "      <td>228.0</td>\n",
              "    </tr>\n",
              "    <tr>\n",
              "      <th>2</th>\n",
              "      <td>max f0point5</td>\n",
              "      <td>0.324874</td>\n",
              "      <td>0.625954</td>\n",
              "      <td>165.0</td>\n",
              "    </tr>\n",
              "    <tr>\n",
              "      <th>3</th>\n",
              "      <td>max accuracy</td>\n",
              "      <td>0.324874</td>\n",
              "      <td>0.923526</td>\n",
              "      <td>165.0</td>\n",
              "    </tr>\n",
              "    <tr>\n",
              "      <th>4</th>\n",
              "      <td>max precision</td>\n",
              "      <td>0.922010</td>\n",
              "      <td>1.000000</td>\n",
              "      <td>0.0</td>\n",
              "    </tr>\n",
              "    <tr>\n",
              "      <th>5</th>\n",
              "      <td>max recall</td>\n",
              "      <td>0.000000</td>\n",
              "      <td>1.000000</td>\n",
              "      <td>399.0</td>\n",
              "    </tr>\n",
              "    <tr>\n",
              "      <th>6</th>\n",
              "      <td>max specificity</td>\n",
              "      <td>0.922010</td>\n",
              "      <td>1.000000</td>\n",
              "      <td>0.0</td>\n",
              "    </tr>\n",
              "    <tr>\n",
              "      <th>7</th>\n",
              "      <td>max absolute_mcc</td>\n",
              "      <td>0.293192</td>\n",
              "      <td>0.589494</td>\n",
              "      <td>175.0</td>\n",
              "    </tr>\n",
              "    <tr>\n",
              "      <th>8</th>\n",
              "      <td>max min_per_class_accuracy</td>\n",
              "      <td>0.086644</td>\n",
              "      <td>0.844156</td>\n",
              "      <td>279.0</td>\n",
              "    </tr>\n",
              "    <tr>\n",
              "      <th>9</th>\n",
              "      <td>max mean_per_class_accuracy</td>\n",
              "      <td>0.074413</td>\n",
              "      <td>0.850391</td>\n",
              "      <td>289.0</td>\n",
              "    </tr>\n",
              "    <tr>\n",
              "      <th>10</th>\n",
              "      <td>max tns</td>\n",
              "      <td>0.922010</td>\n",
              "      <td>3381.000000</td>\n",
              "      <td>0.0</td>\n",
              "    </tr>\n",
              "    <tr>\n",
              "      <th>11</th>\n",
              "      <td>max fns</td>\n",
              "      <td>0.922010</td>\n",
              "      <td>384.000000</td>\n",
              "      <td>0.0</td>\n",
              "    </tr>\n",
              "    <tr>\n",
              "      <th>12</th>\n",
              "      <td>max fps</td>\n",
              "      <td>0.000000</td>\n",
              "      <td>3381.000000</td>\n",
              "      <td>399.0</td>\n",
              "    </tr>\n",
              "    <tr>\n",
              "      <th>13</th>\n",
              "      <td>max tps</td>\n",
              "      <td>0.000000</td>\n",
              "      <td>385.000000</td>\n",
              "      <td>399.0</td>\n",
              "    </tr>\n",
              "    <tr>\n",
              "      <th>14</th>\n",
              "      <td>max tnr</td>\n",
              "      <td>0.922010</td>\n",
              "      <td>1.000000</td>\n",
              "      <td>0.0</td>\n",
              "    </tr>\n",
              "    <tr>\n",
              "      <th>15</th>\n",
              "      <td>max fnr</td>\n",
              "      <td>0.922010</td>\n",
              "      <td>0.997403</td>\n",
              "      <td>0.0</td>\n",
              "    </tr>\n",
              "    <tr>\n",
              "      <th>16</th>\n",
              "      <td>max fpr</td>\n",
              "      <td>0.000000</td>\n",
              "      <td>1.000000</td>\n",
              "      <td>399.0</td>\n",
              "    </tr>\n",
              "    <tr>\n",
              "      <th>17</th>\n",
              "      <td>max tpr</td>\n",
              "      <td>0.000000</td>\n",
              "      <td>1.000000</td>\n",
              "      <td>399.0</td>\n",
              "    </tr>\n",
              "  </tbody>\n",
              "</table>\n",
              "</div>"
            ],
            "text/plain": [
              "                         metric  threshold        value    idx\n",
              "0                        max f1   0.293192     0.632628  175.0\n",
              "1                        max f2   0.180262     0.698824  228.0\n",
              "2                  max f0point5   0.324874     0.625954  165.0\n",
              "3                  max accuracy   0.324874     0.923526  165.0\n",
              "4                 max precision   0.922010     1.000000    0.0\n",
              "5                    max recall   0.000000     1.000000  399.0\n",
              "6               max specificity   0.922010     1.000000    0.0\n",
              "7              max absolute_mcc   0.293192     0.589494  175.0\n",
              "8    max min_per_class_accuracy   0.086644     0.844156  279.0\n",
              "9   max mean_per_class_accuracy   0.074413     0.850391  289.0\n",
              "10                      max tns   0.922010  3381.000000    0.0\n",
              "11                      max fns   0.922010   384.000000    0.0\n",
              "12                      max fps   0.000000  3381.000000  399.0\n",
              "13                      max tps   0.000000   385.000000  399.0\n",
              "14                      max tnr   0.922010     1.000000    0.0\n",
              "15                      max fnr   0.922010     0.997403    0.0\n",
              "16                      max fpr   0.000000     1.000000  399.0\n",
              "17                      max tpr   0.000000     1.000000  399.0"
            ]
          },
          "metadata": {
            "tags": []
          }
        },
        {
          "output_type": "stream",
          "text": [
            "\n",
            "Gains/Lift Table: Avg response rate: 10.20 %, avg score:  9.85 %\n"
          ],
          "name": "stdout"
        },
        {
          "output_type": "display_data",
          "data": {
            "text/html": [
              "<div>\n",
              "<style scoped>\n",
              "    .dataframe tbody tr th:only-of-type {\n",
              "        vertical-align: middle;\n",
              "    }\n",
              "\n",
              "    .dataframe tbody tr th {\n",
              "        vertical-align: top;\n",
              "    }\n",
              "\n",
              "    .dataframe thead th {\n",
              "        text-align: right;\n",
              "    }\n",
              "</style>\n",
              "<table border=\"1\" class=\"dataframe\">\n",
              "  <thead>\n",
              "    <tr style=\"text-align: right;\">\n",
              "      <th></th>\n",
              "      <th>group</th>\n",
              "      <th>cumulative_data_fraction</th>\n",
              "      <th>lower_threshold</th>\n",
              "      <th>lift</th>\n",
              "      <th>cumulative_lift</th>\n",
              "      <th>response_rate</th>\n",
              "      <th>score</th>\n",
              "      <th>cumulative_response_rate</th>\n",
              "      <th>cumulative_score</th>\n",
              "      <th>capture_rate</th>\n",
              "      <th>cumulative_capture_rate</th>\n",
              "      <th>gain</th>\n",
              "      <th>cumulative_gain</th>\n",
              "      <th>kolmogorov_smirnov</th>\n",
              "    </tr>\n",
              "  </thead>\n",
              "  <tbody>\n",
              "    <tr>\n",
              "      <th>0</th>\n",
              "      <td>1</td>\n",
              "      <td>0.010223</td>\n",
              "      <td>0.771605</td>\n",
              "      <td>7.041065</td>\n",
              "      <td>7.041065</td>\n",
              "      <td>0.717949</td>\n",
              "      <td>0.812017</td>\n",
              "      <td>0.717949</td>\n",
              "      <td>0.812017</td>\n",
              "      <td>0.071979</td>\n",
              "      <td>0.071979</td>\n",
              "      <td>604.106519</td>\n",
              "      <td>604.106519</td>\n",
              "      <td>0.068769</td>\n",
              "    </tr>\n",
              "    <tr>\n",
              "      <th>1</th>\n",
              "      <td>2</td>\n",
              "      <td>0.020183</td>\n",
              "      <td>0.691560</td>\n",
              "      <td>7.742525</td>\n",
              "      <td>7.387240</td>\n",
              "      <td>0.789474</td>\n",
              "      <td>0.735099</td>\n",
              "      <td>0.753247</td>\n",
              "      <td>0.774058</td>\n",
              "      <td>0.077121</td>\n",
              "      <td>0.149100</td>\n",
              "      <td>674.252469</td>\n",
              "      <td>638.724001</td>\n",
              "      <td>0.143554</td>\n",
              "    </tr>\n",
              "    <tr>\n",
              "      <th>2</th>\n",
              "      <td>3</td>\n",
              "      <td>0.030144</td>\n",
              "      <td>0.644858</td>\n",
              "      <td>7.484441</td>\n",
              "      <td>7.419358</td>\n",
              "      <td>0.763158</td>\n",
              "      <td>0.668821</td>\n",
              "      <td>0.756522</td>\n",
              "      <td>0.739284</td>\n",
              "      <td>0.074550</td>\n",
              "      <td>0.223650</td>\n",
              "      <td>648.444054</td>\n",
              "      <td>641.935844</td>\n",
              "      <td>0.215478</td>\n",
              "    </tr>\n",
              "    <tr>\n",
              "      <th>3</th>\n",
              "      <td>4</td>\n",
              "      <td>0.040105</td>\n",
              "      <td>0.580935</td>\n",
              "      <td>6.710188</td>\n",
              "      <td>7.243225</td>\n",
              "      <td>0.684211</td>\n",
              "      <td>0.605874</td>\n",
              "      <td>0.738562</td>\n",
              "      <td>0.706150</td>\n",
              "      <td>0.066838</td>\n",
              "      <td>0.290488</td>\n",
              "      <td>571.018807</td>\n",
              "      <td>624.322462</td>\n",
              "      <td>0.278813</td>\n",
              "    </tr>\n",
              "    <tr>\n",
              "      <th>4</th>\n",
              "      <td>5</td>\n",
              "      <td>0.050066</td>\n",
              "      <td>0.518832</td>\n",
              "      <td>6.968272</td>\n",
              "      <td>7.188522</td>\n",
              "      <td>0.710526</td>\n",
              "      <td>0.551525</td>\n",
              "      <td>0.732984</td>\n",
              "      <td>0.675387</td>\n",
              "      <td>0.069409</td>\n",
              "      <td>0.359897</td>\n",
              "      <td>596.827222</td>\n",
              "      <td>618.852205</td>\n",
              "      <td>0.345011</td>\n",
              "    </tr>\n",
              "    <tr>\n",
              "      <th>5</th>\n",
              "      <td>6</td>\n",
              "      <td>0.100131</td>\n",
              "      <td>0.335145</td>\n",
              "      <td>4.980619</td>\n",
              "      <td>6.084570</td>\n",
              "      <td>0.507853</td>\n",
              "      <td>0.427220</td>\n",
              "      <td>0.620419</td>\n",
              "      <td>0.551303</td>\n",
              "      <td>0.249357</td>\n",
              "      <td>0.609254</td>\n",
              "      <td>398.061885</td>\n",
              "      <td>508.457045</td>\n",
              "      <td>0.566931</td>\n",
              "    </tr>\n",
              "    <tr>\n",
              "      <th>6</th>\n",
              "      <td>7</td>\n",
              "      <td>0.150197</td>\n",
              "      <td>0.186012</td>\n",
              "      <td>2.875409</td>\n",
              "      <td>5.014850</td>\n",
              "      <td>0.293194</td>\n",
              "      <td>0.249863</td>\n",
              "      <td>0.511344</td>\n",
              "      <td>0.450823</td>\n",
              "      <td>0.143959</td>\n",
              "      <td>0.753213</td>\n",
              "      <td>187.540882</td>\n",
              "      <td>401.484991</td>\n",
              "      <td>0.671485</td>\n",
              "    </tr>\n",
              "    <tr>\n",
              "      <th>7</th>\n",
              "      <td>8</td>\n",
              "      <td>0.200000</td>\n",
              "      <td>0.101763</td>\n",
              "      <td>1.187187</td>\n",
              "      <td>4.061697</td>\n",
              "      <td>0.121053</td>\n",
              "      <td>0.142182</td>\n",
              "      <td>0.414155</td>\n",
              "      <td>0.373966</td>\n",
              "      <td>0.059126</td>\n",
              "      <td>0.812339</td>\n",
              "      <td>18.718712</td>\n",
              "      <td>306.169666</td>\n",
              "      <td>0.681866</td>\n",
              "    </tr>\n",
              "    <tr>\n",
              "      <th>8</th>\n",
              "      <td>9</td>\n",
              "      <td>0.300131</td>\n",
              "      <td>0.052959</td>\n",
              "      <td>0.744525</td>\n",
              "      <td>2.955007</td>\n",
              "      <td>0.075916</td>\n",
              "      <td>0.069311</td>\n",
              "      <td>0.301310</td>\n",
              "      <td>0.272326</td>\n",
              "      <td>0.074550</td>\n",
              "      <td>0.886889</td>\n",
              "      <td>-25.547450</td>\n",
              "      <td>195.500724</td>\n",
              "      <td>0.653381</td>\n",
              "    </tr>\n",
              "    <tr>\n",
              "      <th>9</th>\n",
              "      <td>10</td>\n",
              "      <td>0.400000</td>\n",
              "      <td>0.039896</td>\n",
              "      <td>0.411851</td>\n",
              "      <td>2.320051</td>\n",
              "      <td>0.041995</td>\n",
              "      <td>0.046016</td>\n",
              "      <td>0.236566</td>\n",
              "      <td>0.215822</td>\n",
              "      <td>0.041131</td>\n",
              "      <td>0.928021</td>\n",
              "      <td>-58.814917</td>\n",
              "      <td>132.005141</td>\n",
              "      <td>0.587974</td>\n",
              "    </tr>\n",
              "    <tr>\n",
              "      <th>10</th>\n",
              "      <td>11</td>\n",
              "      <td>0.500131</td>\n",
              "      <td>0.031193</td>\n",
              "      <td>0.154040</td>\n",
              "      <td>1.886395</td>\n",
              "      <td>0.015707</td>\n",
              "      <td>0.035248</td>\n",
              "      <td>0.192348</td>\n",
              "      <td>0.179670</td>\n",
              "      <td>0.015424</td>\n",
              "      <td>0.943445</td>\n",
              "      <td>-84.596024</td>\n",
              "      <td>88.639499</td>\n",
              "      <td>0.493649</td>\n",
              "    </tr>\n",
              "    <tr>\n",
              "      <th>11</th>\n",
              "      <td>12</td>\n",
              "      <td>0.600000</td>\n",
              "      <td>0.024897</td>\n",
              "      <td>0.128703</td>\n",
              "      <td>1.593830</td>\n",
              "      <td>0.013123</td>\n",
              "      <td>0.027972</td>\n",
              "      <td>0.162516</td>\n",
              "      <td>0.154420</td>\n",
              "      <td>0.012853</td>\n",
              "      <td>0.956298</td>\n",
              "      <td>-87.129661</td>\n",
              "      <td>59.383033</td>\n",
              "      <td>0.396754</td>\n",
              "    </tr>\n",
              "    <tr>\n",
              "      <th>12</th>\n",
              "      <td>13</td>\n",
              "      <td>0.699869</td>\n",
              "      <td>0.019814</td>\n",
              "      <td>0.051481</td>\n",
              "      <td>1.373742</td>\n",
              "      <td>0.005249</td>\n",
              "      <td>0.022183</td>\n",
              "      <td>0.140075</td>\n",
              "      <td>0.135550</td>\n",
              "      <td>0.005141</td>\n",
              "      <td>0.961440</td>\n",
              "      <td>-94.851865</td>\n",
              "      <td>37.374233</td>\n",
              "      <td>0.291270</td>\n",
              "    </tr>\n",
              "    <tr>\n",
              "      <th>13</th>\n",
              "      <td>14</td>\n",
              "      <td>0.800000</td>\n",
              "      <td>0.015223</td>\n",
              "      <td>0.025673</td>\n",
              "      <td>1.205013</td>\n",
              "      <td>0.002618</td>\n",
              "      <td>0.017460</td>\n",
              "      <td>0.122870</td>\n",
              "      <td>0.120770</td>\n",
              "      <td>0.002571</td>\n",
              "      <td>0.964010</td>\n",
              "      <td>-97.432671</td>\n",
              "      <td>20.501285</td>\n",
              "      <td>0.182633</td>\n",
              "    </tr>\n",
              "    <tr>\n",
              "      <th>14</th>\n",
              "      <td>15</td>\n",
              "      <td>0.899869</td>\n",
              "      <td>0.010827</td>\n",
              "      <td>0.102963</td>\n",
              "      <td>1.082706</td>\n",
              "      <td>0.010499</td>\n",
              "      <td>0.013043</td>\n",
              "      <td>0.110399</td>\n",
              "      <td>0.108814</td>\n",
              "      <td>0.010283</td>\n",
              "      <td>0.974293</td>\n",
              "      <td>-89.703729</td>\n",
              "      <td>8.270551</td>\n",
              "      <td>0.082874</td>\n",
              "    </tr>\n",
              "    <tr>\n",
              "      <th>15</th>\n",
              "      <td>16</td>\n",
              "      <td>1.000000</td>\n",
              "      <td>0.000000</td>\n",
              "      <td>0.256733</td>\n",
              "      <td>1.000000</td>\n",
              "      <td>0.026178</td>\n",
              "      <td>0.005962</td>\n",
              "      <td>0.101966</td>\n",
              "      <td>0.098515</td>\n",
              "      <td>0.025707</td>\n",
              "      <td>1.000000</td>\n",
              "      <td>-74.326707</td>\n",
              "      <td>0.000000</td>\n",
              "      <td>0.000000</td>\n",
              "    </tr>\n",
              "  </tbody>\n",
              "</table>\n",
              "</div>"
            ],
            "text/plain": [
              "    group  cumulative_data_fraction  ...  cumulative_gain  kolmogorov_smirnov\n",
              "0       1                  0.010223  ...       604.106519            0.068769\n",
              "1       2                  0.020183  ...       638.724001            0.143554\n",
              "2       3                  0.030144  ...       641.935844            0.215478\n",
              "3       4                  0.040105  ...       624.322462            0.278813\n",
              "4       5                  0.050066  ...       618.852205            0.345011\n",
              "5       6                  0.100131  ...       508.457045            0.566931\n",
              "6       7                  0.150197  ...       401.484991            0.671485\n",
              "7       8                  0.200000  ...       306.169666            0.681866\n",
              "8       9                  0.300131  ...       195.500724            0.653381\n",
              "9      10                  0.400000  ...       132.005141            0.587974\n",
              "10     11                  0.500131  ...        88.639499            0.493649\n",
              "11     12                  0.600000  ...        59.383033            0.396754\n",
              "12     13                  0.699869  ...        37.374233            0.291270\n",
              "13     14                  0.800000  ...        20.501285            0.182633\n",
              "14     15                  0.899869  ...         8.270551            0.082874\n",
              "15     16                  1.000000  ...         0.000000            0.000000\n",
              "\n",
              "[16 rows x 14 columns]"
            ]
          },
          "metadata": {
            "tags": []
          }
        },
        {
          "output_type": "stream",
          "text": [
            "\n"
          ],
          "name": "stdout"
        },
        {
          "output_type": "execute_result",
          "data": {
            "text/plain": [
              ""
            ]
          },
          "metadata": {
            "tags": []
          },
          "execution_count": 135
        }
      ]
    },
    {
      "cell_type": "code",
      "metadata": {
        "colab": {
          "base_uri": "https://localhost:8080/",
          "height": 355
        },
        "id": "ygaUwhZm_x7F",
        "outputId": "6769d798-f4d8-47b0-93e8-3b9761862bdc"
      },
      "source": [
        "df_drf.predict(valid)"
      ],
      "execution_count": 165,
      "outputs": [
        {
          "output_type": "stream",
          "text": [
            "drf prediction progress: |████████████████████████████████████████████████| 100%\n"
          ],
          "name": "stdout"
        },
        {
          "output_type": "stream",
          "text": [
            "/usr/local/lib/python3.7/dist-packages/h2o/job.py:72: UserWarning: Test/Validation dataset column 'Accident_State' has levels not trained on: [\"CO\", \"MT\", \"UT\"]\n",
            "  warnings.warn(w)\n",
            "/usr/local/lib/python3.7/dist-packages/h2o/job.py:72: UserWarning: Test/Validation dataset column 'Occupation' has levels not trained on: [\"4 PAPER MACHINE\", \"4/5 TOWEL TECH.\", \"4TH HAND #1\", \"58 DEPARTMENT DCM OPERATOR\", \"5TH HAND #1\", \"7 MACHINE TENDER / GP\", \"AC MECHANIC\", \"AREATOR OPERATOR\", \"ASSET AVAILABILITY LEADER\", \"ASST POWER / RECOVERY OPE\", ...213 not listed..., \"UTILITY/BOTTOM B OPERATOR\", \"UTILITY/ENCADRIA TEMP\", \"WAREHOUSE OPERATOR/GEORGIA PAC\", \"WAREHOUSE STACKER\", \"WATER TREATMENT OP\", \"WEB PRESS OPERATOR\", \"WOOD PREP MAINTENANCE\", \"WOOD YARD SCALER\", \"WOODYARD TECH 2 / GEORGIA PACI\", \"WOODYARD TECH/LR\"]\n",
            "  warnings.warn(w)\n"
          ],
          "name": "stderr"
        },
        {
          "output_type": "display_data",
          "data": {
            "text/html": [
              "<table>\n",
              "<thead>\n",
              "<tr><th>predict  </th><th style=\"text-align: right;\">      No</th><th style=\"text-align: right;\">     Yes</th><th style=\"text-align: right;\">   cal_No</th><th style=\"text-align: right;\">  cal_Yes</th></tr>\n",
              "</thead>\n",
              "<tbody>\n",
              "<tr><td>Yes      </td><td style=\"text-align: right;\">0.238895</td><td style=\"text-align: right;\">0.761105</td><td style=\"text-align: right;\">0.0702498</td><td style=\"text-align: right;\">0.92975  </td></tr>\n",
              "<tr><td>No       </td><td style=\"text-align: right;\">0.867493</td><td style=\"text-align: right;\">0.132507</td><td style=\"text-align: right;\">0.917644 </td><td style=\"text-align: right;\">0.0823563</td></tr>\n",
              "<tr><td>Yes      </td><td style=\"text-align: right;\">0.231206</td><td style=\"text-align: right;\">0.768794</td><td style=\"text-align: right;\">0.0663633</td><td style=\"text-align: right;\">0.933637 </td></tr>\n",
              "<tr><td>Yes      </td><td style=\"text-align: right;\">0.328276</td><td style=\"text-align: right;\">0.671724</td><td style=\"text-align: right;\">0.133216 </td><td style=\"text-align: right;\">0.866784 </td></tr>\n",
              "<tr><td>Yes      </td><td style=\"text-align: right;\">0.525518</td><td style=\"text-align: right;\">0.474482</td><td style=\"text-align: right;\">0.424113 </td><td style=\"text-align: right;\">0.575887 </td></tr>\n",
              "<tr><td>Yes      </td><td style=\"text-align: right;\">0.293277</td><td style=\"text-align: right;\">0.706723</td><td style=\"text-align: right;\">0.104252 </td><td style=\"text-align: right;\">0.895748 </td></tr>\n",
              "<tr><td>Yes      </td><td style=\"text-align: right;\">0.449737</td><td style=\"text-align: right;\">0.550263</td><td style=\"text-align: right;\">0.287425 </td><td style=\"text-align: right;\">0.712575 </td></tr>\n",
              "<tr><td>Yes      </td><td style=\"text-align: right;\">0.228962</td><td style=\"text-align: right;\">0.771038</td><td style=\"text-align: right;\">0.0652673</td><td style=\"text-align: right;\">0.934733 </td></tr>\n",
              "<tr><td>Yes      </td><td style=\"text-align: right;\">0.20128 </td><td style=\"text-align: right;\">0.79872 </td><td style=\"text-align: right;\">0.0530667</td><td style=\"text-align: right;\">0.946933 </td></tr>\n",
              "<tr><td>Yes      </td><td style=\"text-align: right;\">0.37266 </td><td style=\"text-align: right;\">0.62734 </td><td style=\"text-align: right;\">0.179428 </td><td style=\"text-align: right;\">0.820572 </td></tr>\n",
              "</tbody>\n",
              "</table>"
            ]
          },
          "metadata": {
            "tags": []
          }
        },
        {
          "output_type": "execute_result",
          "data": {
            "text/plain": [
              ""
            ]
          },
          "metadata": {
            "tags": []
          },
          "execution_count": 165
        }
      ]
    },
    {
      "cell_type": "code",
      "metadata": {
        "colab": {
          "base_uri": "https://localhost:8080/",
          "height": 355
        },
        "id": "TEVDmIXX_6_p",
        "outputId": "acf52fcd-23be-47fa-e8de-22a8f76577d3"
      },
      "source": [
        "df_drf.predict(hf_test)"
      ],
      "execution_count": 166,
      "outputs": [
        {
          "output_type": "stream",
          "text": [
            "drf prediction progress: |████████████████████████████████████████████████| 100%\n"
          ],
          "name": "stdout"
        },
        {
          "output_type": "stream",
          "text": [
            "/usr/local/lib/python3.7/dist-packages/h2o/job.py:72: UserWarning: Test/Validation dataset column 'Accident_State' has levels not trained on: [\"CO\", \"MT\", \"UT\"]\n",
            "  warnings.warn(w)\n",
            "/usr/local/lib/python3.7/dist-packages/h2o/job.py:72: UserWarning: Test/Validation dataset column 'Occupation' has levels not trained on: [\"4 PAPER MACHINE\", \"4/5 TOWEL TECH.\", \"4TH HAND #1\", \"58 DEPARTMENT DCM OPERATOR\", \"5TH HAND #1\", \"7 MACHINE TENDER / GP\", \"AC MECHANIC\", \"AREATOR OPERATOR\", \"ASSET AVAILABILITY LEADER\", \"ASST POWER / RECOVERY OPE\", ...213 not listed..., \"UTILITY/BOTTOM B OPERATOR\", \"UTILITY/ENCADRIA TEMP\", \"WAREHOUSE OPERATOR/GEORGIA PAC\", \"WAREHOUSE STACKER\", \"WATER TREATMENT OP\", \"WEB PRESS OPERATOR\", \"WOOD PREP MAINTENANCE\", \"WOOD YARD SCALER\", \"WOODYARD TECH 2 / GEORGIA PACI\", \"WOODYARD TECH/LR\"]\n",
            "  warnings.warn(w)\n"
          ],
          "name": "stderr"
        },
        {
          "output_type": "display_data",
          "data": {
            "text/html": [
              "<table>\n",
              "<thead>\n",
              "<tr><th>predict  </th><th style=\"text-align: right;\">      No</th><th style=\"text-align: right;\">     Yes</th><th style=\"text-align: right;\">   cal_No</th><th style=\"text-align: right;\">  cal_Yes</th></tr>\n",
              "</thead>\n",
              "<tbody>\n",
              "<tr><td>Yes      </td><td style=\"text-align: right;\">0.238895</td><td style=\"text-align: right;\">0.761105</td><td style=\"text-align: right;\">0.0702498</td><td style=\"text-align: right;\">0.92975  </td></tr>\n",
              "<tr><td>No       </td><td style=\"text-align: right;\">0.867493</td><td style=\"text-align: right;\">0.132507</td><td style=\"text-align: right;\">0.917644 </td><td style=\"text-align: right;\">0.0823563</td></tr>\n",
              "<tr><td>Yes      </td><td style=\"text-align: right;\">0.231206</td><td style=\"text-align: right;\">0.768794</td><td style=\"text-align: right;\">0.0663633</td><td style=\"text-align: right;\">0.933637 </td></tr>\n",
              "<tr><td>Yes      </td><td style=\"text-align: right;\">0.328276</td><td style=\"text-align: right;\">0.671724</td><td style=\"text-align: right;\">0.133216 </td><td style=\"text-align: right;\">0.866784 </td></tr>\n",
              "<tr><td>Yes      </td><td style=\"text-align: right;\">0.525518</td><td style=\"text-align: right;\">0.474482</td><td style=\"text-align: right;\">0.424113 </td><td style=\"text-align: right;\">0.575887 </td></tr>\n",
              "<tr><td>Yes      </td><td style=\"text-align: right;\">0.293277</td><td style=\"text-align: right;\">0.706723</td><td style=\"text-align: right;\">0.104252 </td><td style=\"text-align: right;\">0.895748 </td></tr>\n",
              "<tr><td>Yes      </td><td style=\"text-align: right;\">0.449737</td><td style=\"text-align: right;\">0.550263</td><td style=\"text-align: right;\">0.287425 </td><td style=\"text-align: right;\">0.712575 </td></tr>\n",
              "<tr><td>Yes      </td><td style=\"text-align: right;\">0.228962</td><td style=\"text-align: right;\">0.771038</td><td style=\"text-align: right;\">0.0652673</td><td style=\"text-align: right;\">0.934733 </td></tr>\n",
              "<tr><td>Yes      </td><td style=\"text-align: right;\">0.20128 </td><td style=\"text-align: right;\">0.79872 </td><td style=\"text-align: right;\">0.0530667</td><td style=\"text-align: right;\">0.946933 </td></tr>\n",
              "<tr><td>Yes      </td><td style=\"text-align: right;\">0.37266 </td><td style=\"text-align: right;\">0.62734 </td><td style=\"text-align: right;\">0.179428 </td><td style=\"text-align: right;\">0.820572 </td></tr>\n",
              "</tbody>\n",
              "</table>"
            ]
          },
          "metadata": {
            "tags": []
          }
        },
        {
          "output_type": "execute_result",
          "data": {
            "text/plain": [
              ""
            ]
          },
          "metadata": {
            "tags": []
          },
          "execution_count": 166
        }
      ]
    },
    {
      "cell_type": "code",
      "metadata": {
        "id": "iHx0f_IMWlmy"
      },
      "source": [
        ""
      ],
      "execution_count": null,
      "outputs": []
    }
  ]
}